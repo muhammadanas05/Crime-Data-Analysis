{
 "cells": [
  {
   "cell_type": "code",
   "execution_count": 4,
   "metadata": {},
   "outputs": [],
   "source": [
    "import pandas as pd\n",
    "\n",
    "file_path = 'crime.csv'\n",
    "crime_data = pd.read_csv(file_path)"
   ]
  },
  {
   "cell_type": "code",
   "execution_count": 5,
   "metadata": {},
   "outputs": [],
   "source": [
    "crime_data = crime_data.loc[:, ~crime_data.columns.str.contains('^Unnamed')]\n",
    "\n",
    "crime_data['DATE OCC'] = pd.to_datetime(crime_data['DATE OCC'], errors='coerce')\n",
    "crime_data['TIME OCC'] = pd.to_numeric(crime_data['TIME OCC'], errors='coerce', downcast='integer')"
   ]
  },
  {
   "cell_type": "code",
   "execution_count": 9,
   "metadata": {},
   "outputs": [],
   "source": [
    "crime_data['HOUR OCC'] = (crime_data['TIME OCC'] // 100).astype('Int64')"
   ]
  },
  {
   "cell_type": "markdown",
   "metadata": {},
   "source": [
    "Question 1: Which hour has the highest frequency of crimes?"
   ]
  },
  {
   "cell_type": "code",
   "execution_count": 8,
   "metadata": {},
   "outputs": [
    {
     "name": "stdout",
     "output_type": "stream",
     "text": [
      "The hour with the highest frequency of crimes is 12.\n"
     ]
    }
   ],
   "source": [
    "peak_crime_hour = crime_data['HOUR OCC'].mode()[0]\n",
    "print(f'The hour with the highest frequency of crimes is {peak_crime_hour}.')"
   ]
  },
  {
   "cell_type": "markdown",
   "metadata": {},
   "source": [
    "Question 2: Which area has the largest frequency of night crimes (10 PM to 3:59 AM)?"
   ]
  },
  {
   "cell_type": "code",
   "execution_count": 7,
   "metadata": {},
   "outputs": [
    {
     "name": "stdout",
     "output_type": "stream",
     "text": [
      "The area with the highest frequency of night crimes is Central.\n"
     ]
    }
   ],
   "source": [
    "night_hours = list(range(22, 24)) + list(range(0, 4))\n",
    "night_crimes = crime_data[crime_data['HOUR OCC'].isin(night_hours)]\n",
    "peak_night_crime_location = night_crimes['AREA NAME'].mode()[0]\n",
    "print(f'The area with the highest frequency of night crimes is {peak_night_crime_location}.')"
   ]
  },
  {
   "cell_type": "markdown",
   "metadata": {},
   "source": [
    "Question 3: Number of crimes committed against victims of different age groups"
   ]
  },
  {
   "cell_type": "code",
   "execution_count": 10,
   "metadata": {},
   "outputs": [
    {
     "name": "stdout",
     "output_type": "stream",
     "text": [
      "Number of crimes committed against different age groups:\n",
      "Vict Age Group\n",
      "0-17     163315\n",
      "18-25     70812\n",
      "26-34    116042\n",
      "35-44    101437\n",
      "45-54     71698\n",
      "55-64     51330\n",
      "65+       33933\n",
      "Name: count, dtype: int64\n"
     ]
    }
   ],
   "source": [
    "age_bins = [0, 18, 26, 35, 45, 55, 65, 120] \n",
    "age_labels = [\"0-17\", \"18-25\", \"26-34\", \"35-44\", \"45-54\", \"55-64\", \"65+\"]\n",
    "crime_data['Vict Age Group'] = pd.cut(crime_data['Vict Age'], bins=age_bins, labels=age_labels, right=False)\n",
    "victim_ages = crime_data['Vict Age Group'].value_counts().sort_index()\n",
    "print('Number of crimes committed against different age groups:')\n",
    "print(victim_ages)"
   ]
  }
 ],
 "metadata": {
  "kernelspec": {
   "display_name": "base",
   "language": "python",
   "name": "python3"
  },
  "language_info": {
   "codemirror_mode": {
    "name": "ipython",
    "version": 3
   },
   "file_extension": ".py",
   "mimetype": "text/x-python",
   "name": "python",
   "nbconvert_exporter": "python",
   "pygments_lexer": "ipython3",
   "version": "3.11.7"
  }
 },
 "nbformat": 4,
 "nbformat_minor": 2
}
